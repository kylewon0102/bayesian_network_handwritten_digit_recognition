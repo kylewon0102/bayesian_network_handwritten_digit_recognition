{
  "nbformat": 4,
  "nbformat_minor": 0,
  "metadata": {
    "colab": {
      "provenance": []
    },
    "kernelspec": {
      "name": "python3",
      "display_name": "Python 3"
    },
    "language_info": {
      "name": "python"
    }
  },
  "cells": [
    {
      "cell_type": "markdown",
      "source": [],
      "metadata": {
        "id": "errs9vRVBtWA"
      }
    },
    {
      "cell_type": "markdown",
      "source": [
        "visualizations"
      ],
      "metadata": {
        "id": "BsY0-gCeDWN-"
      }
    },
    {
      "cell_type": "code",
      "source": [
        "import numpy as np\n",
        "import tensorflow as tf\n",
        "import matplotlib.pyplot as plt\n",
        "\n",
        "# Load MNIST dataset using TensorFlow (it automatically downloads it)\n",
        "def load_mnist():\n",
        "    (train_images, train_labels), (test_images, test_labels) = tf.keras.datasets.mnist.load_data()\n",
        "\n",
        "    # Normalize the images to [0, 1]\n",
        "    train_images = train_images / 255.0\n",
        "    test_images = test_images / 255.0\n",
        "\n",
        "    # Flatten the images (28x28 -> 784)\n",
        "    train_images = train_images.reshape(train_images.shape[0], 784)\n",
        "    test_images = test_images.reshape(test_images.shape[0], 784)\n",
        "\n",
        "    # One-hot encode the labels\n",
        "    train_labels_onehot = np.eye(10)[train_labels]\n",
        "    test_labels_onehot = np.eye(10)[test_labels]\n",
        "\n",
        "    return train_images, train_labels_onehot, test_images, test_labels_onehot\n",
        "\n",
        "# Sigmoid activation function and its derivative\n",
        "def sigmoid(z):\n",
        "    return 1 / (1 + np.exp(-z))\n",
        "\n",
        "def sigmoid_derivative(z):\n",
        "    return sigmoid(z) * (1 - sigmoid(z))\n",
        "\n",
        "# Neural Network class\n",
        "class NeuralNetwork:\n",
        "    def __init__(self, input_size, hidden_size, output_size, learning_rate=0.1):\n",
        "        #self.weights_input_hidden = np.random.randn(input_size, hidden_size) * 0.1\n",
        "        self.weights_input_hidden = np.random.randn(input_size, hidden_size) * np.sqrt(1. / input_size)\n",
        "        self.bias_hidden = np.zeros((1, hidden_size))\n",
        "        #self.weights_hidden_output = np.random.randn(hidden_size, output_size) * 0.1\n",
        "        self.weights_hidden_output = np.random.randn(hidden_size, output_size) * np.sqrt(1. / hidden_size)\n",
        "        self.bias_output = np.zeros((1, output_size))\n",
        "        self.learning_rate = learning_rate\n",
        "        self.losses = []  # To track loss over epochs\n",
        "\n",
        "    def forward(self, X):\n",
        "        self.z1 = np.dot(X, self.weights_input_hidden) + self.bias_hidden\n",
        "        self.a1 = sigmoid(self.z1)\n",
        "        self.z2 = np.dot(self.a1, self.weights_hidden_output) + self.bias_output\n",
        "        self.a2 = sigmoid(self.z2)\n",
        "        return self.a2\n",
        "\n",
        "    def backward(self, X, y, output):\n",
        "        output_error = output - y\n",
        "        output_delta = output_error * sigmoid_derivative(self.z2)\n",
        "\n",
        "        hidden_error = np.dot(output_delta, self.weights_hidden_output.T)\n",
        "        hidden_delta = hidden_error * sigmoid_derivative(self.z1)\n",
        "\n",
        "        self.weights_hidden_output -= self.learning_rate * np.dot(self.a1.T, output_delta)\n",
        "        self.bias_output -= self.learning_rate * np.sum(output_delta, axis=0, keepdims=True)\n",
        "        self.weights_input_hidden -= self.learning_rate * np.dot(X.T, hidden_delta)\n",
        "        self.bias_hidden -= self.learning_rate * np.sum(hidden_delta, axis=0, keepdims=True)\n",
        "\n",
        "    def train(self, X, y, epochs):\n",
        "        for epoch in range(epochs):\n",
        "            output = self.forward(X)\n",
        "            self.backward(X, y, output)\n",
        "            if epoch % 10 == 0:\n",
        "                loss = np.mean((y - output) ** 2)\n",
        "                self.losses.append(loss)\n",
        "                print(f\"Epoch {epoch}, Loss: {loss}\")\n",
        "\n",
        "    def predict(self, X):\n",
        "        output = self.forward(X)\n",
        "        return np.argmax(output, axis=1)\n",
        "\n",
        "# Load MNIST dataset\n",
        "train_images, train_labels_onehot, test_images, test_labels_onehot = load_mnist()\n",
        "\n",
        "# Initialize the neural network\n",
        "nn = NeuralNetwork(input_size=784, hidden_size=128, output_size=10, learning_rate=0.1)\n",
        "\n",
        "# Visualize a few sample images from the training set\n",
        "def visualize_samples():\n",
        "    plt.figure(figsize=(10, 5))\n",
        "    for i in range(5):\n",
        "        plt.subplot(1, 5, i+1)\n",
        "        plt.imshow(train_images[i].reshape(28, 28), cmap='gray')\n",
        "        plt.title(f\"Label: {np.argmax(train_labels_onehot[i])}\")\n",
        "        plt.axis('off')\n",
        "    plt.show()\n",
        "\n",
        "# Train the network and visualize the loss\n",
        "def train_and_visualize():\n",
        "    visualize_samples()  # Display sample images from the training set\n",
        "    nn.train(train_images[:5000], train_labels_onehot[:5000], epochs=100)\n",
        "\n",
        "    # Plot the loss over epochs\n",
        "    plt.plot(nn.losses)\n",
        "    plt.title('Training Loss over Epochs')\n",
        "    plt.xlabel('Epoch')\n",
        "    plt.ylabel('Loss')\n",
        "    plt.show()\n",
        "\n",
        "    # Test the network\n",
        "    predictions = nn.predict(test_images[:1000])\n",
        "    accuracy = np.mean(predictions == np.argmax(test_labels_onehot[:1000], axis=1))\n",
        "    print(f\"Test Accuracy: {accuracy * 100:.2f}%\")\n",
        "\n",
        "    # Visualize the model's predictions on test images\n",
        "    visualize_predictions(predictions)\n",
        "\n",
        "# Visualize the model's predictions\n",
        "def visualize_predictions(predictions):\n",
        "    plt.figure(figsize=(10, 5))\n",
        "    for i in range(5):\n",
        "        plt.subplot(1, 5, i+1)\n",
        "        plt.imshow(test_images[i].reshape(28, 28), cmap='gray')\n",
        "        plt.title(f\"Pred: {predictions[i]}\")\n",
        "        plt.axis('off')\n",
        "    plt.show()\n",
        "\n",
        "# Run training and visualizations\n",
        "train_and_visualize()\n"
      ],
      "metadata": {
        "colab": {
          "base_uri": "https://localhost:8080/",
          "height": 1000
        },
        "id": "m5mxdYfJDXx2",
        "outputId": "29b31771-6aa8-4bca-f524-f744d30b5b1d"
      },
      "execution_count": 5,
      "outputs": [
        {
          "output_type": "stream",
          "name": "stdout",
          "text": [
            "Downloading data from https://storage.googleapis.com/tensorflow/tf-keras-datasets/mnist.npz\n",
            "\u001b[1m11490434/11490434\u001b[0m \u001b[32m━━━━━━━━━━━━━━━━━━━━\u001b[0m\u001b[37m\u001b[0m \u001b[1m0s\u001b[0m 0us/step\n"
          ]
        },
        {
          "output_type": "display_data",
          "data": {
            "text/plain": [
              "<Figure size 1000x500 with 5 Axes>"
            ],
            "image/png": "[encoded data removed]"
          },
          "metadata": {}
        },
        {
          "output_type": "stream",
          "name": "stdout",
          "text": [
            "Epoch 0, Loss: 0.2285826018237429\n"
          ]
        },
        {
          "output_type": "stream",
          "name": "stderr",
          "text": [
            "<ipython-input-5-224e8cd1c00f>:25: RuntimeWarning: overflow encountered in exp\n",
            "  return 1 / (1 + np.exp(-z))\n"
          ]
        },
        {
          "output_type": "stream",
          "name": "stdout",
          "text": [
            "Epoch 10, Loss: 0.1\n",
            "Epoch 20, Loss: 0.1\n",
            "Epoch 30, Loss: 0.1\n",
            "Epoch 40, Loss: 0.1\n",
            "Epoch 50, Loss: 0.1\n",
            "Epoch 60, Loss: 0.1\n",
            "Epoch 70, Loss: 0.1\n",
            "Epoch 80, Loss: 0.1\n",
            "Epoch 90, Loss: 0.1\n"
          ]
        },
        {
          "output_type": "display_data",
          "data": {
            "text/plain": [
              "<Figure size 640x480 with 1 Axes>"
            ],
            "image/png": "[encoded data removed]"
          },
          "metadata": {}
        },
        {
          "output_type": "stream",
          "name": "stdout",
          "text": [
            "Test Accuracy: 8.50%\n"
          ]
        },
        {
          "output_type": "display_data",
          "data": {
            "text/plain": [
              "<Figure size 1000x500 with 5 Axes>"
            ],
            "image/png": "[encoded data removed]"
          },
          "metadata": {}
        }
      ]
    },
    {
      "cell_type": "markdown",
      "source": [
        "28 x 28 low rs handwritten digits\n",
        "\n",
        "each pixel (total 786 pixels) have each 0 to 255 values assigned to show whether its black or white\n",
        "\n",
        "neural network:\n",
        "0. input layer 784 nodes\n",
        "1. hidden layer 10 nodes\n",
        "2. output layr 10 nodes\n",
        "\n",
        "forward propagation\n",
        "- A_0 = x\n",
        "- z_1 = w_1 dot A_0 + b_1\n",
        "- A_1 = g(Z_1) = ReLu(Z_1)\n",
        "\n",
        "rectified linear unit\n",
        "| x if x > 0  |\n",
        "| 0 if x <= 0 |\n",
        "\n",
        "Softmax activation function\n",
        "\n",
        "\n",
        "Back propagation\n",
        "- dz_2 = A_2 - Y\n",
        "- dw_2 = 1/m dz_2 A_1T"
      ],
      "metadata": {
        "id": "3ZoaHtJiBtvl"
      }
    },
    {
      "cell_type": "code",
      "source": [
        "import numpy as np\n",
        "import pandas as pd\n",
        "from matplotlib import pyplot as plt\n",
        "import tensorflow as tf\n",
        "\n",
        "#unpack tuples\n",
        "(train_images, train_label), (test_images, test_label) = tf.keras.datasets.mnist.load_data()\n",
        "\n",
        "#normalize the images\n",
        "train_images = train_images / 255.0\n",
        "test_images = test_images / 255.0\n",
        "\n",
        "#flatten the images to 784 pixels\n",
        "train_images = train_images.reshape(train_images.shape[0], 784) #60000, 784\n",
        "test_images = test_images.reshape(test_images.shape[0], 784) # 10000, 784\n",
        "\n",
        "train_images = train_images.T\n",
        "test_images = test_images.T\n",
        "\n",
        "m, n = 70000, 784\n",
        "\n",
        "print(train_images.shape) #784, 60000\n",
        "print(train_label.shape)  #60000,\n",
        "print(test_images.shape)  #784, 10000\n",
        "print(test_label.shape)   #10000,\n",
        "\n",
        "print(test_label)"
      ],
      "metadata": {
        "colab": {
          "base_uri": "https://localhost:8080/"
        },
        "id": "Db3atY1lDwLH",
        "outputId": "9e85568e-ad91-49f5-e0fa-d7c0ad71f01e"
      },
      "execution_count": 6,
      "outputs": [
        {
          "output_type": "stream",
          "name": "stdout",
          "text": [
            "(784, 60000)\n",
            "(60000,)\n",
            "(784, 10000)\n",
            "(10000,)\n",
            "[7 2 1 ... 4 5 6]\n"
          ]
        }
      ]
    },
    {
      "cell_type": "code",
      "source": [
        "def init_params():\n",
        "  weight1 = np.random.rand(10, 784) - 0.5\n",
        "  b1 = np.random.rand(10, 1) - 0.5\n",
        "  weight2 = np.random.rand(10, 10) - 0.5\n",
        "  b2 = np.random.rand(10, 1) - 0.5\n",
        "  return weight1, b1, weight2, b2\n",
        "\n",
        "def ReLU(Z):\n",
        "  return np.maximum(Z, 0)\n",
        "\n",
        "def softmax(Z):\n",
        "  A = np.exp(Z) / sum(np.exp(Z))\n",
        "  return A\n",
        "\n",
        "def forward_prop(weight1, b1, weight2, b2, X):\n",
        "  z1 = weight1.dot(X) + b1\n",
        "  A1 = ReLU(z1)\n",
        "  z2 = weight2.dot(A1) + b2\n",
        "  A2 = softmax(z2)\n",
        "  return z1, A1, z2, A2\n",
        "\n",
        "def ReLU_deriv(Z):\n",
        "  return Z > 0\n",
        "\n",
        "def one_hot(Y):\n",
        "  one_hot_Y = np.zeros((Y.size, Y.max() + 1))\n",
        "  one_hot_Y[np.arange(Y.size), Y] = 1\n",
        "  one_hot_Y = one_hot_Y.T\n",
        "  print(one_hot_Y.shape)\n",
        "  return one_hot_Y\n",
        "\n",
        "def backward_prop(z1, A1, z2, A2, weight1, weight2, X, Y):\n",
        "  one_hot_Y = one_hot(Y)\n",
        "  dz2 = A2 - one_hot_Y\n",
        "  dw2 = 1 / m * dz2.dot(A1.T)\n",
        "  db2 = 1 / m * np.sum(dz2)\n",
        "  dz1 = weight2.T.dot(dz2) * ReLU_deriv(z1)\n",
        "  dw1 = 1 / m * dz1.dot(X.T)\n",
        "  db1 = 1 / m * np.sum(dz1)\n",
        "  return dw1, db1, dw2, db2\n",
        "\n",
        "def update_params(weight1, b1, weight2, b2, dw1, db1, dw2, db2, alpha):\n",
        "  weight1 = weight1 - alpha * dw1\n",
        "  b1 = b1 - alpha * db1\n",
        "  weight2 = weight2 - alpha * dw2\n",
        "  b2 = b2 - alpha * db2\n",
        "  return weight1, b1, weight2, b2\n"
      ],
      "metadata": {
        "id": "RcB3-uhrQQys"
      },
      "execution_count": 7,
      "outputs": []
    },
    {
      "cell_type": "code",
      "source": [
        "def get_predictions(A2):\n",
        "    return np.argmax(A2, 0)\n",
        "\n",
        "def get_accuracy(predictions, Y):\n",
        "    print(predictions, Y)\n",
        "    return np.sum(predictions == Y) / Y.size\n",
        "\n",
        "def gradient_descent(X, Y, alpha, iterations):\n",
        "    W1, b1, W2, b2 = init_params()\n",
        "    for i in range(iterations):\n",
        "        Z1, A1, Z2, A2 = forward_prop(W1, b1, W2, b2, X)\n",
        "        dW1, db1, dW2, db2 = backward_prop(Z1, A1, Z2, A2, W1, W2, X, Y)\n",
        "        W1, b1, W2, b2 = update_params(W1, b1, W2, b2, dW1, db1, dW2, db2, alpha)\n",
        "        if i % 10 == 0:\n",
        "            print(\"Iteration: \", i)\n",
        "            predictions = get_predictions(A2)\n",
        "            print(get_accuracy(predictions, Y))\n",
        "    return W1, b1, W2, b2"
      ],
      "metadata": {
        "id": "sfQYgMdaTS0H"
      },
      "execution_count": 8,
      "outputs": []
    },
    {
      "cell_type": "code",
      "source": [
        "W1, b1, W2, b2 = gradient_descent(train_images, train_label, 0.10, 10)"
      ],
      "metadata": {
        "colab": {
          "base_uri": "https://localhost:8080/"
        },
        "id": "VS5ZRj9cTUd2",
        "outputId": "bb470e17-995a-4ff7-d75f-5928409e501b"
      },
      "execution_count": 9,
      "outputs": [
        {
          "output_type": "stream",
          "name": "stdout",
          "text": [
            "(10, 60000)\n",
            "Iteration:  0\n",
            "[5 4 5 ... 9 9 5] [5 0 4 ... 5 6 8]\n",
            "0.08525\n",
            "(10, 60000)\n",
            "(10, 60000)\n",
            "(10, 60000)\n",
            "(10, 60000)\n",
            "(10, 60000)\n",
            "(10, 60000)\n",
            "(10, 60000)\n",
            "(10, 60000)\n",
            "(10, 60000)\n"
          ]
        }
      ]
    },
    {
      "cell_type": "code",
      "source": [
        "def make_predictions(X, W1, b1, W2, b2):\n",
        "    _, _, _, A2 = forward_prop(W1, b1, W2, b2, X)\n",
        "    predictions = get_predictions(A2)\n",
        "    return predictions\n",
        "\n",
        "def test_prediction(index, W1, b1, W2, b2):\n",
        "    current_image = train_images[:, index, None]\n",
        "    prediction = make_predictions(train_images[:, index, None], W1, b1, W2, b2)\n",
        "    label = train_label[index]\n",
        "    print(\"Prediction: \", prediction)\n",
        "    print(\"Label: \", label)\n",
        "\n",
        "    current_image = current_image.reshape((28, 28)) * 255\n",
        "    plt.gray()\n",
        "    plt.imshow(current_image, interpolation='nearest')\n",
        "    plt.show()"
      ],
      "metadata": {
        "id": "EW5EesHxUApd"
      },
      "execution_count": 10,
      "outputs": []
    },
    {
      "cell_type": "code",
      "source": [
        "test_prediction(0, W1, b1, W2, b2)\n",
        "test_prediction(1, W1, b1, W2, b2)\n",
        "test_prediction(2, W1, b1, W2, b2)\n",
        "test_prediction(3, W1, b1, W2, b2)"
      ],
      "metadata": {
        "colab": {
          "base_uri": "https://localhost:8080/",
          "height": 1000
        },
        "id": "fPZ98x9PUFt9",
        "outputId": "ae521d06-7148-459b-a40a-15cc7900f027"
      },
      "execution_count": 11,
      "outputs": [
        {
          "output_type": "stream",
          "name": "stdout",
          "text": [
            "Prediction:  [1]\n",
            "Label:  5\n"
          ]
        },
        {
          "output_type": "display_data",
          "data": {
            "text/plain": [
              "<Figure size 640x480 with 1 Axes>"
            ],
            "image/png": "[encoded data removed]"
          },
          "metadata": {}
        },
        {
          "output_type": "stream",
          "name": "stdout",
          "text": [
            "Prediction:  [3]\n",
            "Label:  0\n"
          ]
        },
        {
          "output_type": "display_data",
          "data": {
            "text/plain": [
              "<Figure size 640x480 with 1 Axes>"
            ],
            "image/png": "[encoded data removed]"
          },
          "metadata": {}
        },
        {
          "output_type": "stream",
          "name": "stdout",
          "text": [
            "Prediction:  [5]\n",
            "Label:  4\n"
          ]
        },
        {
          "output_type": "display_data",
          "data": {
            "text/plain": [
              "<Figure size 640x480 with 1 Axes>"
            ],
            "image/png": "[encoded data removed]"
          },
          "metadata": {}
        },
        {
          "output_type": "stream",
          "name": "stdout",
          "text": [
            "Prediction:  [3]\n",
            "Label:  1\n"
          ]
        },
        {
          "output_type": "display_data",
          "data": {
            "text/plain": [
              "<Figure size 640x480 with 1 Axes>"
            ],
            "image/png": "[encoded data removed]"
          },
          "metadata": {}
        }
      ]
    },
    {
      "cell_type": "code",
      "source": [
        "dev_predictions = make_predictions(test_images, W1, b1, W2, b2)\n",
        "get_accuracy(dev_predictions, test_label)"
      ],
      "metadata": {
        "colab": {
          "base_uri": "https://localhost:8080/"
        },
        "id": "Z4hnXG8NULDd",
        "outputId": "8e690528-a4b6-433f-ae80-b66434d23a6c"
      },
      "execution_count": 12,
      "outputs": [
        {
          "output_type": "stream",
          "name": "stdout",
          "text": [
            "[3 4 4 ... 4 7 4] [7 2 1 ... 4 5 6]\n"
          ]
        },
        {
          "output_type": "execute_result",
          "data": {
            "text/plain": [
              "0.187"
            ]
          },
          "metadata": {},
          "execution_count": 12
        }
      ]
    }
  ]
}