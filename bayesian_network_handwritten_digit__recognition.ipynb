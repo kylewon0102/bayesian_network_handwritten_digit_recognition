{
  "nbformat": 4,
  "nbformat_minor": 0,
  "metadata": {
    "colab": {
      "provenance": [],
      "authorship_tag": "ABX9TyORXXYDKGKZvl4elBUJEkaw",
      "include_colab_link": true
    },
    "kernelspec": {
      "name": "python3",
      "display_name": "Python 3"
    },
    "language_info": {
      "name": "python"
    }
  },
  "cells": [
    {
      "cell_type": "markdown",
      "metadata": {
        "id": "view-in-github",
        "colab_type": "text"
      },
      "source": [
        "<a href=\"https://colab.research.google.com/github/kylewon0102/bayesian_network_handwritten_digit_recognition/blob/main/bayesian_network_handwritten_digit__recognition.ipynb\" target=\"_parent\"><img src=\"https://colab.research.google.com/assets/colab-badge.svg\" alt=\"Open In Colab\"/></a>"
      ]
    },
    {
      "cell_type": "code",
      "source": [
        "import tensorflow as tf\n",
        "import matplotlib.pyplot as plt\n",
        "import numpy as np\n",
        "import sys"
      ],
      "metadata": {
        "id": "igVGGZZxVWG_"
      },
      "execution_count": null,
      "outputs": []
    },
    {
      "cell_type": "code",
      "source": [
        "\"\"\"\n",
        "data load and normalizing\n",
        "\"\"\"\n",
        "\n",
        "# Load MNIST dataset\n",
        "(x_train, y_train), (x_test, y_test) = tf.keras.datasets.mnist.load_data()\n",
        "\n",
        "# Normalize the data\n",
        "x_train, x_test = x_train / 255.0, x_test / 255.0"
      ],
      "metadata": {
        "colab": {
          "base_uri": "https://localhost:8080/"
        },
        "id": "D_APAA6NO4ak",
        "outputId": "690fdfb8-8e18-4bb3-874b-34edf7059573"
      },
      "execution_count": null,
      "outputs": [
        {
          "output_type": "stream",
          "name": "stdout",
          "text": [
            "Downloading data from https://storage.googleapis.com/tensorflow/tf-keras-datasets/mnist.npz\n",
            "\u001b[1m11490434/11490434\u001b[0m \u001b[32m━━━━━━━━━━━━━━━━━━━━\u001b[0m\u001b[37m\u001b[0m \u001b[1m0s\u001b[0m 0us/step\n"
          ]
        }
      ]
    },
    {
      "cell_type": "code",
      "source": [
        "\"\"\"\n",
        "model build\n",
        "input 784 normalized pixels\n",
        "hidden 128 neurons with relu activation + drop certain percentage of neurons\n",
        "output 10 digits\n",
        "\"\"\"\n",
        "\n",
        "model = tf.keras.Sequential([\n",
        "    tf.keras.layers.Flatten(input_shape=(28, 28)), #input layer of 784 inputs\n",
        "    tf.keras.layers.Dense(128, activation='relu'), #hidden layer of 128 neurons using relu algorithm to check if these neurons get activated i.e. over .5\n",
        "    tf.keras.layers.Dropout(0.2), #dropping percentage of neurons during training to prevent overfitting\n",
        "    tf.keras.layers.Dense(10, activation='softmax') #output layer of 10 outputs (number 0 ~ 9)\n",
        "])"
      ],
      "metadata": {
        "colab": {
          "base_uri": "https://localhost:8080/"
        },
        "id": "_L5JONh2U2N0",
        "outputId": "32fdbc6a-9a56-44a5-f632-bd796deab6fb"
      },
      "execution_count": null,
      "outputs": [
        {
          "output_type": "stream",
          "name": "stderr",
          "text": [
            "/usr/local/lib/python3.11/dist-packages/keras/src/layers/reshaping/flatten.py:37: UserWarning: Do not pass an `input_shape`/`input_dim` argument to a layer. When using Sequential models, prefer using an `Input(shape)` object as the first layer in the model instead.\n",
            "  super().__init__(**kwargs)\n"
          ]
        }
      ]
    },
    {
      "cell_type": "code",
      "source": [
        "\"\"\"\n",
        "Models with different batchs\n",
        "\"\"\"\n",
        "\n",
        "def compile_batch(alpha):\n",
        "  # Compile the model with adam (a combination between adaGrad and Momentum)\n",
        "  model.compile(optimizer=tf.keras.optimizers.Adam(learning_rate = alpha),\n",
        "                loss='sparse_categorical_crossentropy',\n",
        "                metrics=['accuracy'])\n",
        "\n",
        "  # Train the model\n",
        "  model.fit(x_train, y_train, epochs=5)\n",
        "\n",
        "def compile_mini_batch(alpha, size):\n",
        "  model.compile(optimizer=tf.keras.optimizers.Adam(learning_rate = alpha),\n",
        "                loss='sparse_categorical_crossentropy',\n",
        "                metrics=['accuracy'])\n",
        "\n",
        "  # Train the model\n",
        "  model.fit(x_train, y_train, epochs=5, batch_size=size)\n",
        "\n",
        "\n",
        "def compile_stochastic(alpha): #just using SGD optimizer as we are doing SGD\n",
        "  model.compile(optimizer=tf.keras.optimizers.SGD(learning_rate = alpha),\n",
        "                loss='sparse_categorical_crossentropy',\n",
        "                metrics=['accuracy'])\n",
        "\n",
        "  model.fit(x_train, y_train, epochs=5, batch_size=1)"
      ],
      "metadata": {
        "id": "uhbM9H6gVSLJ"
      },
      "execution_count": null,
      "outputs": []
    },
    {
      "cell_type": "code",
      "source": [
        "\"\"\"\n",
        "Evaluating and display\n",
        "\"\"\"\n",
        "def main():\n",
        "  sys.stdout.write(\"Models Available\" + '\\n' + \"1. Batch\" + '\\n' + \"2. Mini Batch\" + '\\n' + \"3. Stochastic\" + '\\n')\n",
        "  model_choice = int(input(\"Use \"))\n",
        "  alpha = 0.001\n",
        "\n",
        "  if model_choice == 1:\n",
        "    compile_batch(alpha)\n",
        "  elif model_choice == 2:\n",
        "    compile_mini_batch(alpha, 64)\n",
        "  elif model_choice == 3:\n",
        "    compile_stochastic(alpha)\n",
        "\n",
        "def test():\n",
        "  # Evaluate the model\n",
        "  test_loss, test_acc = model.evaluate(x_test, y_test)\n",
        "  print(f\"Test accuracy: {test_acc}\")\n",
        "\n",
        "  # Make predictions\n",
        "  predictions = model.predict(x_test)\n",
        "\n",
        "  fig, axes = plt.subplots(1, 5, figsize=(12, 3))\n",
        "  # Display first 5 images with predictions\n",
        "\n",
        "  for i, ax in enumerate(axes):\n",
        "    ax.imshow(x_test[i], cmap=plt.cm.binary)\n",
        "    ax.set_title(f\"Prediction: {np.argmax(predictions[i])}\")\n",
        "    ax.axis(\"off\")\n",
        "\n",
        "  plt.show()"
      ],
      "metadata": {
        "collapsed": true,
        "id": "3wNpxXBxV49r"
      },
      "execution_count": null,
      "outputs": []
    },
    {
      "cell_type": "code",
      "source": [
        "main()"
      ],
      "metadata": {
        "colab": {
          "base_uri": "https://localhost:8080/"
        },
        "collapsed": true,
        "id": "QVvWkK4lKVQs",
        "outputId": "886d91bb-6287-40fb-9db7-812ecf704e32"
      },
      "execution_count": null,
      "outputs": [
        {
          "output_type": "stream",
          "name": "stdout",
          "text": [
            "Models Available\n",
            "1. Batch\n",
            "2. Mini Batch\n",
            "3. Stochastic\n",
            "Use 1\n",
            "Epoch 1/5\n",
            "\u001b[1m1875/1875\u001b[0m \u001b[32m━━━━━━━━━━━━━━━━━━━━\u001b[0m\u001b[37m\u001b[0m \u001b[1m16s\u001b[0m 6ms/step - accuracy: 0.8577 - loss: 0.4835\n",
            "Epoch 2/5\n",
            "\u001b[1m1875/1875\u001b[0m \u001b[32m━━━━━━━━━━━━━━━━━━━━\u001b[0m\u001b[37m\u001b[0m \u001b[1m22s\u001b[0m 7ms/step - accuracy: 0.9558 - loss: 0.1500\n",
            "Epoch 3/5\n",
            "\u001b[1m1875/1875\u001b[0m \u001b[32m━━━━━━━━━━━━━━━━━━━━\u001b[0m\u001b[37m\u001b[0m \u001b[1m10s\u001b[0m 5ms/step - accuracy: 0.9662 - loss: 0.1122\n",
            "Epoch 4/5\n",
            "\u001b[1m1875/1875\u001b[0m \u001b[32m━━━━━━━━━━━━━━━━━━━━\u001b[0m\u001b[37m\u001b[0m \u001b[1m17s\u001b[0m 4ms/step - accuracy: 0.9733 - loss: 0.0872\n",
            "Epoch 5/5\n",
            "\u001b[1m1875/1875\u001b[0m \u001b[32m━━━━━━━━━━━━━━━━━━━━\u001b[0m\u001b[37m\u001b[0m \u001b[1m11s\u001b[0m 4ms/step - accuracy: 0.9778 - loss: 0.0716\n"
          ]
        }
      ]
    },
    {
      "cell_type": "code",
      "source": [
        "test()"
      ],
      "metadata": {
        "colab": {
          "base_uri": "https://localhost:8080/",
          "height": 271
        },
        "id": "ulCqkaqPMJGj",
        "outputId": "69e0ea63-0823-453d-dcc9-3018b3d517a5"
      },
      "execution_count": null,
      "outputs": [
        {
          "output_type": "stream",
          "name": "stdout",
          "text": [
            "\u001b[1m313/313\u001b[0m \u001b[32m━━━━━━━━━━━━━━━━━━━━\u001b[0m\u001b[37m\u001b[0m \u001b[1m1s\u001b[0m 2ms/step - accuracy: 0.9727 - loss: 0.0963\n",
            "Test accuracy: 0.9768999814987183\n",
            "\u001b[1m313/313\u001b[0m \u001b[32m━━━━━━━━━━━━━━━━━━━━\u001b[0m\u001b[37m\u001b[0m \u001b[1m1s\u001b[0m 2ms/step\n"
          ]
        },
        {
          "output_type": "display_data",
          "data": {
            "text/plain": [
              "<Figure size 1200x300 with 5 Axes>"
            ],
            "image/png": "[encoded data removed]"
          },
          "metadata": {}
        }
      ]
    },
    {
      "cell_type": "markdown",
      "source": [
        "# (For Future Project) Write the above code in Hand"
      ],
      "metadata": {
        "id": "kXd6vGYpyrP3"
      }
    },
    {
      "cell_type": "markdown",
      "source": [
        "w_1 a_1 - w_2 a_2 + w_3 a_3 +w_4 a_4 + ... + w_n a_n\n",
        "\n",
        "sigmoid:\n",
        "δ(x) = 1/(1+e^(-x))\n",
        "\n",
        "bias\n",
        "only activate neuron when weighted sum > 10\n",
        "\n",
        "δ(w_1 a_1 + w_2 a_2 + w_3 a_3 + ... + w_n a_n - 10)\n",
        "\n",
        "\n",
        "\n",
        "\n",
        "28 x 28 low rs handwritten digits\n",
        "\n",
        "each pixel (total 786 pixels) have each 0 to 255 values assigned to show whether its black or white\n",
        "\n",
        "neural network:\n",
        "0. input layer 784 nodes\n",
        "1. hidden layer 10 nodes\n",
        "2. output layr 10 nodes\n",
        "\n",
        "forward propagation\n",
        "- A_0 = x\n",
        "- z_1 = w_1 dot A_0 + b_1\n",
        "- A_1 = g(Z_1) = ReLu(Z_1)\n",
        "\n",
        "rectified linear unit\n",
        "| x if x > 0  |\n",
        "| 0 if x <= 0 |\n",
        "\n",
        "Softmax activation function\n",
        "\n",
        "\n",
        "Back propagation\n",
        "- dz_2 = A_2 - Y\n",
        "- dw_2 = 1/m dz_2 A_1T"
      ],
      "metadata": {
        "id": "3ZoaHtJiBtvl"
      }
    },
    {
      "cell_type": "code",
      "source": [
        "import numpy as np\n",
        "import tensorflow as tf\n",
        "import matplotlib.pyplot as plt\n",
        "\n",
        "# Load the MNIST dataset\n",
        "(x_train, y_train), (x_test, y_test) = tf.keras.datasets.mnist.load_data()\n",
        "\n",
        "# Reshape data to fit the neural network\n",
        "x_train = x_train.reshape(x_train.shape[0], -1).T  # Shape (784, 60000)\n",
        "x_test = x_test.reshape(x_test.shape[0], -1).T\n",
        "\n",
        "# Initialize parameters\n",
        "def init_params():\n",
        "    w1 = np.random.rand(10, 784) - 0.5\n",
        "    b1 = np.random.rand(10, 1) - 0.5\n",
        "    w2 = np.random.rand(10, 10) - 0.5\n",
        "    b2 = np.random.rand(10, 1) - 0.5\n",
        "    w3 = np.random.rand(10, 10) - 0.5\n",
        "    b3 = np.random.rand(10, 1) - 0.5\n",
        "    return w1, b1, w2, b2, w3, b3\n",
        "\n",
        "# Activation and utility functions\n",
        "def ReLU(val):\n",
        "    return np.maximum(val, 0)\n",
        "\n",
        "def softmax(Z):\n",
        "    exp = np.exp(Z - np.max(Z)) # Prevent overflow\n",
        "    return exp / exp.sum(axis=0)\n",
        "\n",
        "def forward_prop(w1, b1, w2, b2, w3, b3, x):\n",
        "    raw1 = w1.dot(x) + b1\n",
        "    active1 = ReLU(raw1)\n",
        "    raw2 = w2.dot(active1) + b2\n",
        "    active2 = ReLU(raw2)\n",
        "    raw3 = w3.dot(active2) + b3\n",
        "    active3 = softmax(raw3)\n",
        "    return raw1, active1, raw2, active2, raw3, active3\n",
        "\n",
        "def d_Relu(val):\n",
        "    return val > 0\n",
        "\n",
        "def one_hot(Y):\n",
        "    one_hot_Y = np.zeros((Y.max()+1,Y.size))\n",
        "    one_hot_Y[Y,np.arange(Y.size)] = 1\n",
        "    return one_hot_Y\n",
        "\n",
        "def backward_prop(X, Y, A1, A2, A3, W2, W3, Z1, Z2, m):\n",
        "    one_hot_Y = one_hot(Y)\n",
        "    dZ3 = 2*(A3 - one_hot_Y)\n",
        "    dW3 = 1/m * (dZ3.dot(A2.T))\n",
        "    db3 = 1/m * np.sum(dZ3,1)\n",
        "    dZ2 = W3.T.dot(dZ3)*d_Relu(Z2)\n",
        "    dW2 = 1/m * (dZ2.dot(A1.T))\n",
        "    db2 = 1/m * np.sum(dZ2,1)\n",
        "    dZ1 = W2.T.dot(dZ2)*d_Relu(Z1)\n",
        "    dW1 = 1/m * (dZ1.dot(X.T))\n",
        "    db1 = 1/m * np.sum(dZ1,1)\n",
        "    return dW1, db1, dW2, db2, dW3, db3\n",
        "\n",
        "def update_params(w1, b1, w2, b2, w3, b3, dw1, db1, dw2, db2, dw3, db3, alpha):\n",
        "    w1 -= alpha * dw1\n",
        "    b1 -= alpha * db1.reshape(-1, 1)  # Ensure db1 is column vector of shape (10, 1)\n",
        "    w2 -= alpha * dw2\n",
        "    b2 -= alpha * db2.reshape(-1, 1)  # Ensure db2 is column vector of shape (10, 1)\n",
        "    w3 -= alpha * dw3\n",
        "    b3 -= alpha * db3.reshape(-1, 1)  # Ensure db3 is column vector of shape (10, 1)\n",
        "    return w1, b1, w2, b2, w3, b3\n",
        "\n",
        "\n",
        "def get_predictions(val):\n",
        "    return np.argmax(val, 0)\n",
        "\n",
        "def get_accuracy(predictions, Y):\n",
        "    return np.sum(predictions == Y) / Y.size\n",
        "\n",
        "def gradient_descent(x, y, alpha, iterations):\n",
        "    size, m = x.shape\n",
        "    w1, b1, w2, b2, w3, b3 = init_params()\n",
        "    for i in range(iterations):\n",
        "        r1, a1, r2, a2, r3, a3 = forward_prop(w1, b1, w2, b2, w3, b3, x)\n",
        "        dw1, db1, dw2, db2, dw3, db3 = backward_prop(x, y, a1, a2, a3, w2, w3, r1, r2, m)\n",
        "        w1, b1, w2, b2, w3, b3 = update_params(w1, b1, w2, b2, w3, b3, dw1, db1, dw2, db2, dw3, db3, alpha)\n",
        "        if i % 10 == 0:\n",
        "            predictions = get_predictions(a3)\n",
        "            print(f\"Iteration: {i}, Accuracy: {get_accuracy(predictions, y)}\")\n",
        "    return w1, b1, w2, b2, w3, b3\n",
        "\n",
        "# Set parameters and run gradient descent\n",
        "alpha = 0.01  # Learning rate\n",
        "iterations = 100  # Number of iterations\n",
        "w1, b1, w2, b2, w3, b3 = gradient_descent(x_train, y_train, alpha, iterations)\n"
      ],
      "metadata": {
        "id": "m5mxdYfJDXx2",
        "colab": {
          "base_uri": "https://localhost:8080/"
        },
        "outputId": "300181c5-0bd7-40fc-8725-b8d9a301d5b0"
      },
      "execution_count": 1,
      "outputs": [
        {
          "output_type": "stream",
          "name": "stdout",
          "text": [
            "Downloading data from https://storage.googleapis.com/tensorflow/tf-keras-datasets/mnist.npz\n",
            "\u001b[1m11490434/11490434\u001b[0m \u001b[32m━━━━━━━━━━━━━━━━━━━━\u001b[0m\u001b[37m\u001b[0m \u001b[1m0s\u001b[0m 0us/step\n"
          ]
        },
        {
          "output_type": "stream",
          "name": "stderr",
          "text": [
            "<ipython-input-1-8173c53419ea>:28: RuntimeWarning: invalid value encountered in divide\n",
            "  return exp / exp.sum(axis=0)\n"
          ]
        },
        {
          "output_type": "stream",
          "name": "stdout",
          "text": [
            "Iteration: 0, Accuracy: 0.09496666666666667\n",
            "Iteration: 10, Accuracy: 0.09871666666666666\n",
            "Iteration: 20, Accuracy: 0.09871666666666666\n",
            "Iteration: 30, Accuracy: 0.09871666666666666\n",
            "Iteration: 40, Accuracy: 0.09871666666666666\n",
            "Iteration: 50, Accuracy: 0.09871666666666666\n",
            "Iteration: 60, Accuracy: 0.09871666666666666\n",
            "Iteration: 70, Accuracy: 0.09871666666666666\n",
            "Iteration: 80, Accuracy: 0.09871666666666666\n",
            "Iteration: 90, Accuracy: 0.09871666666666666\n"
          ]
        }
      ]
    },
    {
      "cell_type": "code",
      "source": [
        "# Predict on the test set\n",
        "predictions = get_predictions(forward_prop(w1, b1, w2, b2, w3, b3, x_test)[5])\n",
        "\n",
        "# Visualize some test images and the predicted labels\n",
        "for i in range(5):\n",
        "    plt.imshow(x_test[:, i].reshape(28, 28), cmap='gray')\n",
        "    plt.title(f\"Predicted: {predictions[i]}, Actual: {y_test[i]}\")\n",
        "    plt.show()\n"
      ],
      "metadata": {
        "colab": {
          "base_uri": "https://localhost:8080/",
          "height": 1000
        },
        "id": "pMfEfUwNLg_U",
        "outputId": "1d2b28b1-9f53-4c30-ada6-e1c5f9fa1035"
      },
      "execution_count": 2,
      "outputs": [
        {
          "output_type": "display_data",
          "data": {
            "text/plain": [
              "<Figure size 640x480 with 1 Axes>"
            ],
            "image/png": "[encoded data removed]"
          },
          "metadata": {}
        },
        {
          "output_type": "display_data",
          "data": {
            "text/plain": [
              "<Figure size 640x480 with 1 Axes>"
            ],
            "image/png": "[encoded data removed]"
          },
          "metadata": {}
        },
        {
          "output_type": "display_data",
          "data": {
            "text/plain": [
              "<Figure size 640x480 with 1 Axes>"
            ],
            "image/png": "[encoded data removed]"
          },
          "metadata": {}
        },
        {
          "output_type": "display_data",
          "data": {
            "text/plain": [
              "<Figure size 640x480 with 1 Axes>"
            ],
            "image/png": "[encoded data removed]"
          },
          "metadata": {}
        },
        {
          "output_type": "display_data",
          "data": {
            "text/plain": [
              "<Figure size 640x480 with 1 Axes>"
            ],
            "image/png": "[encoded data removed]"
          },
          "metadata": {}
        }
      ]
    }
  ]
}