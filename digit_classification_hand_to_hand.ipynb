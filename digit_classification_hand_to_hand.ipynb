{
 "cells": [
  {
   "cell_type": "code",
   "execution_count": 1,
   "id": "e49a7132-122a-4d06-8081-329017488038",
   "metadata": {},
   "outputs": [
    {
     "name": "stderr",
     "output_type": "stream",
     "text": [
      "2025-05-07 01:54:44.463083: I tensorflow/core/platform/cpu_feature_guard.cc:210] This TensorFlow binary is optimized to use available CPU instructions in performance-critical operations.\n",
      "To enable the following instructions: AVX2 FMA, in other operations, rebuild TensorFlow with the appropriate compiler flags.\n"
     ]
    }
   ],
   "source": [
    "import numpy as np\n",
    "import tensorflow as tf\n",
    "\n",
    "# Load MNIST and preprocess\n",
    "(x_train, y_train), (x_test, y_test) = tf.keras.datasets.mnist.load_data()\n",
    "x_train = x_train.reshape(x_train.shape[0], -1).T / 255.0  # Shape (784, 60000)\n",
    "x_test = x_test.reshape(x_test.shape[0], -1).T / 255.0\n",
    "\n",
    "def init_params():\n",
    "    w1 = np.random.randn(10, 784) * 0.01\n",
    "    b1 = np.zeros((10, 1))\n",
    "    w2 = np.random.randn(10, 10) * 0.01\n",
    "    b2 = np.zeros((10, 1))\n",
    "    w3 = np.random.randn(10, 10) * 0.01\n",
    "    b3 = np.zeros((10, 1))\n",
    "    return w1, b1, w2, b2, w3, b3\n",
    "\n",
    "def ReLU(Z):\n",
    "    return np.maximum(0, Z)\n",
    "\n",
    "def softmax(Z):\n",
    "    expZ = np.exp(Z - np.max(Z, axis=0, keepdims=True))\n",
    "    return expZ / expZ.sum(axis=0, keepdims=True)\n",
    "\n",
    "def forward_prop(w1, b1, w2, b2, w3, b3, x):\n",
    "    z1 = w1 @ x + b1\n",
    "    a1 = ReLU(z1)\n",
    "    z2 = w2 @ a1 + b2\n",
    "    a2 = ReLU(z2)\n",
    "    z3 = w3 @ a2 + b3\n",
    "    a3 = softmax(z3)\n",
    "    return z1, a1, z2, a2, z3, a3\n",
    "\n",
    "def dReLU(Z):\n",
    "    return Z > 0\n",
    "\n",
    "def one_hot(Y):\n",
    "    one_hot_Y = np.zeros((10, Y.size))\n",
    "    one_hot_Y[Y, np.arange(Y.size)] = 1\n",
    "    return one_hot_Y\n",
    "\n",
    "def backward_prop(X, Y, A1, A2, A3, W2, W3, Z1, Z2, m):\n",
    "    one_hot_Y = one_hot(Y)\n",
    "    dZ3 = A3 - one_hot_Y\n",
    "    dW3 = 1/m * dZ3 @ A2.T\n",
    "    db3 = 1/m * np.sum(dZ3, axis=1, keepdims=True)\n",
    "    dZ2 = W3.T @ dZ3 * dReLU(Z2)\n",
    "    dW2 = 1/m * dZ2 @ A1.T\n",
    "    db2 = 1/m * np.sum(dZ2, axis=1, keepdims=True)\n",
    "    dZ1 = W2.T @ dZ2 * dReLU(Z1)\n",
    "    dW1 = 1/m * dZ1 @ X.T\n",
    "    db1 = 1/m * np.sum(dZ1, axis=1, keepdims=True)\n",
    "    return dW1, db1, dW2, db2, dW3, db3\n",
    "\n",
    "def update_params(w1, b1, w2, b2, w3, b3, dw1, db1, dw2, db2, dw3, db3, alpha):\n",
    "    w1 -= alpha * dw1\n",
    "    b1 -= alpha * db1\n",
    "    w2 -= alpha * dw2\n",
    "    b2 -= alpha * db2\n",
    "    w3 -= alpha * dw3\n",
    "    b3 -= alpha * db3\n",
    "    return w1, b1, w2, b2, w3, b3\n",
    "\n",
    "def get_predictions(A3):\n",
    "    return np.argmax(A3, axis=0)\n",
    "\n",
    "def get_accuracy(predictions, Y):\n",
    "    return np.mean(predictions == Y)\n",
    "\n",
    "def gradient_descent(x, y, alpha, iterations):\n",
    "    w1, b1, w2, b2, w3, b3 = init_params()\n",
    "    m = x.shape[1]\n",
    "    for i in range(iterations):\n",
    "        z1, a1, z2, a2, z3, a3 = forward_prop(w1, b1, w2, b2, w3, b3, x)\n",
    "        dw1, db1, dw2, db2, dw3, db3 = backward_prop(x, y, a1, a2, a3, w2, w3, z1, z2, m)\n",
    "        w1, b1, w2, b2, w3, b3 = update_params(w1, b1, w2, b2, w3, b3, dw1, db1, dw2, db2, dw3, db3, alpha)\n",
    "        if i % 10 == 0:\n",
    "            predictions = get_predictions(a3)\n",
    "            acc = get_accuracy(predictions, y)\n",
    "            print(f\"Iteration {i}: Accuracy = {acc:.4f}\")\n",
    "    return w1, b1, w2, b2, w3, b3"
   ]
  },
  {
   "cell_type": "code",
   "execution_count": 2,
   "id": "32d9a9f9-f455-412c-8d4e-bb853ed526d3",
   "metadata": {},
   "outputs": [
    {
     "name": "stdout",
     "output_type": "stream",
     "text": [
      "Iteration 0: Accuracy = 0.0564\n",
      "Iteration 10: Accuracy = 0.1124\n",
      "Iteration 20: Accuracy = 0.1124\n",
      "Iteration 30: Accuracy = 0.1124\n",
      "Iteration 40: Accuracy = 0.1124\n",
      "Iteration 50: Accuracy = 0.1124\n",
      "Iteration 60: Accuracy = 0.1124\n",
      "Iteration 70: Accuracy = 0.1124\n",
      "Iteration 80: Accuracy = 0.1124\n",
      "Iteration 90: Accuracy = 0.1124\n",
      "Test Accuracy: 0.1135\n"
     ]
    }
   ],
   "source": [
    "# Run training\n",
    "alpha = 0.1\n",
    "iterations = 100\n",
    "w1, b1, w2, b2, w3, b3 = gradient_descent(x_train, y_train, alpha, iterations)\n",
    "\n",
    "# Evaluate on test data\n",
    "_, _, _, _, _, a3_test = forward_prop(w1, b1, w2, b2, w3, b3, x_test)\n",
    "test_preds = get_predictions(a3_test)\n",
    "test_acc = get_accuracy(test_preds, y_test)\n",
    "print(f\"Test Accuracy: {test_acc:.4f}\")"
   ]
  }
 ],
 "metadata": {
  "kernelspec": {
   "display_name": "Python [conda env:base] *",
   "language": "python",
   "name": "conda-base-py"
  },
  "language_info": {
   "codemirror_mode": {
    "name": "ipython",
    "version": 3
   },
   "file_extension": ".py",
   "mimetype": "text/x-python",
   "name": "python",
   "nbconvert_exporter": "python",
   "pygments_lexer": "ipython3",
   "version": "3.12.7"
  }
 },
 "nbformat": 4,
 "nbformat_minor": 5
}
